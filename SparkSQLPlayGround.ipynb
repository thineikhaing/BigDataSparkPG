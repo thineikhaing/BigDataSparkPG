{
  "nbformat": 4,
  "nbformat_minor": 0,
  "metadata": {
    "colab": {
      "provenance": [],
      "mount_file_id": "1d0Uf-SLpEe9vf4M0mi21PSTtM3_UZAzt",
      "authorship_tag": "ABX9TyOQbfPSZiZ9BELtTWzW6rlr",
      "include_colab_link": true
    },
    "kernelspec": {
      "name": "python3",
      "display_name": "Python 3"
    },
    "language_info": {
      "name": "python"
    }
  },
  "cells": [
    {
      "cell_type": "markdown",
      "metadata": {
        "id": "view-in-github",
        "colab_type": "text"
      },
      "source": [
        "<a href=\"https://colab.research.google.com/github/thineikhaing/BigDataSparkPG/blob/main/SparkSQLPlayGround.ipynb\" target=\"_parent\"><img src=\"https://colab.research.google.com/assets/colab-badge.svg\" alt=\"Open In Colab\"/></a>"
      ]
    },
    {
      "cell_type": "markdown",
      "source": [
        "# **Installation**\n",
        "The first step involves installing pyspark. The next step is to install findspark library."
      ],
      "metadata": {
        "id": "WXBRhZ_X4Gaw"
      }
    },
    {
      "cell_type": "code",
      "execution_count": 5,
      "metadata": {
        "id": "VsDUMHwI3fgs"
      },
      "outputs": [],
      "source": [
        "# install pyspark using pip\n",
        "!pip install --ignore-install -q pyspark\n",
        "# install findspark using pip\n",
        "!pip install --ignore-install -q findspark"
      ]
    },
    {
      "cell_type": "markdown",
      "source": [
        "## Mounting Google Drive\n",
        "\n",
        "You can use the drive module from google.colab to mount your entire Google Drive to Colab by executing the below code. This will provide us with an authentication link to connect to Google Drive. Choose the Google account whose Drive you want to mount. Allow Google Drive Stream access to your Google Account."
      ],
      "metadata": {
        "id": "mTaWdLlw4hm4"
      }
    },
    {
      "cell_type": "code",
      "source": [
        "# to read in data from a text file, first upload the data file into your google drive and then mount your google drive onto colab\n",
        "from google.colab import drive\n",
        "# to attempt to forcibly remount, call drive.mount(\"/content/drive\", force_remount=True)\n",
        "drive.mount('/content/drive', force_remount=True)"
      ],
      "metadata": {
        "colab": {
          "base_uri": "https://localhost:8080/"
        },
        "id": "aD5sdtor4s1F",
        "outputId": "3fb1b94a-c722-4ef1-9141-0f00c9aed41e"
      },
      "execution_count": 14,
      "outputs": [
        {
          "output_type": "stream",
          "name": "stdout",
          "text": [
            "Mounted at /content/drive\n"
          ]
        }
      ]
    },
    {
      "cell_type": "markdown",
      "source": [
        "Run the sample spark df"
      ],
      "metadata": {
        "id": "gT-wsMIY6BrR"
      }
    },
    {
      "cell_type": "code",
      "source": [
        "from pyspark import SparkContext\n",
        "from pyspark import SparkConf\n",
        "from pyspark.sql import *\n",
        "from pyspark.sql.functions import *\n",
        "from pyspark.sql.types import *\n",
        "\n",
        "spark = SparkSession.builder.master(\"local\").appName(\"Customer\").getOrCreate()\n",
        "\n",
        "inputFilePath = \"/content/drive/My Drive/BEAD_DATA/customers.csv\"\n",
        "countryFilePath = \"/content/drive/My Drive/BEAD_DATA/Country.json\"\n",
        "\n",
        "df = ( spark.read\n",
        "      .option(\"header\", \"true\")\n",
        "      .option(\"inferSchema\", \"true\")\n",
        "      .csv(inputFilePath) )\n",
        "\n",
        "df1 = ( spark.read\n",
        "      .option(\"header\", \"true\")\n",
        "      .option(\"inferSchema\", \"true\")\n",
        "      .json(countryFilePath) )\n",
        "\n",
        "# df.printSchema()\n",
        "# df.count()\n",
        "# df.show()\n",
        "# df1.show()\n",
        "\n",
        "(df.select(\"CustomerId\", \"Fullname\")\n",
        "  .where(\"Age > 30 AND MemberCategory ='Gold' \")\n",
        "  .orderBy(\"Fullname\")\n",
        "  .show(10,False))\n",
        "\n"
      ],
      "metadata": {
        "colab": {
          "base_uri": "https://localhost:8080/"
        },
        "id": "1Ztuc_UN6Ehd",
        "outputId": "9c7c3ef2-88f4-4514-84e8-82976e92456e"
      },
      "execution_count": 21,
      "outputs": [
        {
          "output_type": "stream",
          "name": "stdout",
          "text": [
            "+----------+---------------+\n",
            "|CustomerId|Fullname       |\n",
            "+----------+---------------+\n",
            "|57062     |Amanda Barker  |\n",
            "|43508     |Anthony Johnson|\n",
            "|67230     |April Terrell  |\n",
            "|25216     |Brandon Howe   |\n",
            "|41351     |Jesse Wilson   |\n",
            "|82155     |Jessica Duncan |\n",
            "|84826     |Joseph Mack    |\n",
            "|18918     |Maria Rodriguez|\n",
            "|42696     |Marissa Bush   |\n",
            "|98571     |Mark Crawford  |\n",
            "+----------+---------------+\n",
            "only showing top 10 rows\n",
            "\n"
          ]
        }
      ]
    },
    {
      "cell_type": "markdown",
      "source": [
        "**Day3 Workshop4**\n",
        "\n",
        "Exercise1:\n",
        "\n",
        "Using Dataframes and SparkSQL and working on Rebu Case study files mentioned above, write Spark SQL\n",
        "for the following:\n",
        "\n",
        "A. Data retrieval using Spark SQL\n",
        "1. Retrieve all Driver data (use Drivers.CSV)\n",
        "2. Retrieve all Taxis and display the data in ascending order of Taxi License Plate number.\n",
        "3. Retrieve all Limosine Taxies. You should display only the Taxi Number, Taxi Type, and Taxi\n",
        "Colour.\n",
        "4. Retrieve all 4 seater Premier taxis.\n",
        "\n",
        "B. Aggregation and Statistical Queries (use BEAD_Rebu_TripData.CSV)\n",
        "Determine the average distance per trip based on ALL trips in the month of January 2024.\n",
        "Find the total fares collected grouped by Taxi Type Maxi Cab\n",
        "\n",
        "C. Analytics Questions\n",
        "7. Determine the Average Occupancy i.e., (Number of Passengers / Passenger Capacity) for\n",
        "Standard Taxis.\n",
        "8. Determine Fares Collected by Day of the Week (ie., Sun, Mon, Tue) for the month of Jan 2024.\n",
        "9. Prepare a Tabulation report showing total revenue against the two dimensions Hour of the\n",
        "day AND Day of the Week.\n",
        "10. Compare the total number of trips per day made by all taxis in weekends vs the total number\n",
        "of trips made per day during weekdays in the month of Jan 2024.\n",
        "\n",
        "D. Multiple Entities Joining and multiple formats joined in a DataFrame\n",
        "11. Determine the total fares paid by all Gold Status Passengers in the month of Jan 2024. What\n",
        "percentage does this make from the total fares for all customers in month of Jan 2024."
      ],
      "metadata": {
        "id": "TUE02aOJPnyQ"
      }
    },
    {
      "cell_type": "code",
      "source": [
        "from pyspark import SparkContext\n",
        "from pyspark import SparkConf\n",
        "from pyspark.sql import *\n",
        "from pyspark.sql.functions import *\n",
        "from pyspark.sql.types import *\n",
        "from pyspark.sql.functions import avg, sum, col, month, year, to_date, dayofweek\n",
        "\n",
        "spark = SparkSession.builder.appName(\"RebuCaseStudy\").getOrCreate()\n",
        "\n",
        "drivers_df = spark.read.option(\"header\", \"true\").csv(\"/content/drive/My Drive/BEAD_DATA/BEAD_Rebu_Drivers.csv\")\n",
        "taxis_df = spark.read.option(\"header\", \"true\") \\\n",
        "                      .option(\"inferSchema\", \"true\")\\\n",
        "                      .option(\"multiline\", \"true\").json(\"/content/drive/My Drive/BEAD_DATA/BEAD_Rebu_TaxiCabs.json\")\n",
        "trip_data_df = spark.read.option(\"header\", \"true\").csv(\"/content/drive/MyDrive/BEAD_DATA/BEAD_Rebu_TripData.csv\")\n",
        "passenger_df = spark.read.option(\"header\", \"true\").csv(\"/content/drive/MyDrive/BEAD_DATA/BEAD_Rebu_Passengers.csv\")\n",
        "\n",
        "# Add a column Convert Trip Start Time to date format\n",
        "trip_data_df = trip_data_df.withColumn(\"TripDate\", to_date(trip_data_df[\"Date\"], 'd-MMM-yy'))\n",
        "\n",
        "# Add a column indicating if the day is a weekend or weekday\n",
        "trip_data_df = trip_data_df.withColumn(\"IsWeekend\", (dayofweek(trip_data_df.TripDate) == 1) | (dayofweek(trip_data_df.TripDate) == 7))\n",
        "\n",
        "# Filter for trips in January 2024 and calculate the average distance traveled\n",
        "jan_2024_trips = trip_data_df.filter((month(trip_data_df.TripDate) == 1) & (year(trip_data_df.TripDate) == 2024))\n"
      ],
      "metadata": {
        "collapsed": true,
        "id": "qN6z6AypQTr7"
      },
      "execution_count": 94,
      "outputs": []
    },
    {
      "cell_type": "code",
      "source": [
        "# A - Data retrieval using Spark SQL\n",
        "#===================================\n",
        "\n",
        "# 1. Retrieve all Driver data\n",
        "drivers_df.show()\n",
        "# 2. Retrieve all Taxis and display the data in ascending order of Taxi License Plate number\n",
        "taxis_df.orderBy(\"TaxiNumber\").show()\n",
        "\n",
        "# 3. Retrieve all Limousine Taxis (Taxi Number, Taxi Type, Taxi Colour)\n",
        "taxis_df.select(\"TaxiNumber\", \"TaxiType\", \"TaxiColor\").where(\"TaxiType = 'Limosine'\").show()\n",
        "\n",
        "# 4. Retrieve all 4-seater Premier taxis\n",
        "taxis_df.where(\"TaxiType = 'Premier' AND TaxiPassengerCapacity = 4\").show()"
      ],
      "metadata": {
        "collapsed": true,
        "colab": {
          "base_uri": "https://localhost:8080/"
        },
        "id": "Cph2AIss3K22",
        "outputId": "41bb5ff3-48ae-4034-a72c-9187b6d941c1"
      },
      "execution_count": 76,
      "outputs": [
        {
          "output_type": "stream",
          "name": "stdout",
          "text": [
            "+---+-----------------+-----------+-------------+------+\n",
            "|Sno|       DriverName|DriverPhone|TaxiIDDriving|Rating|\n",
            "+---+-----------------+-----------+-------------+------+\n",
            "|  1|Georgiana Iverson|   38587202|          209|   1.7|\n",
            "|  2|   Ewell Rolstone|   88675586|          243|   4.9|\n",
            "|  3|    Pedro Thacker|   94452422|          197|   2.6|\n",
            "|  4|     Winn Kellard|   81521505|          456|   4.8|\n",
            "|  5|   Ermin Trounson|   21644415|          372|   4.1|\n",
            "|  6| Weylin Bernhardi|   89930924|          397|   4.7|\n",
            "|  7|  Giuseppe Manton|   78503208|          463|   3.3|\n",
            "|  8| Friedrich De'Ath|   64901517|          264|   4.4|\n",
            "|  9|  Lauraine Galton|   28736147|          367|   4.7|\n",
            "| 10|   Debra Willeman|   97189395|          277|   4.6|\n",
            "| 11| Francene Gavriel|   88137354|           32|   4.9|\n",
            "| 12|     Eyde Brosini|   34871916|          386|   4.2|\n",
            "| 13|  Orelia Woolfoot|   28037658|          329|   4.1|\n",
            "| 14|Christi Middleton|   97577827|          453|   4.8|\n",
            "| 15|     Jamey Cecely|   48329871|          418|   4.7|\n",
            "| 16|  Rosetta Matanin|   59730924|          335|   3.4|\n",
            "| 17|Antonina Newlands|   50182407|          255|   3.3|\n",
            "| 18|  Eilis MacGraith|   87527429|          385|   4.5|\n",
            "| 19|    Cozmo Macenzy|   20817333|          503|   4.5|\n",
            "| 20| Demetrius Fuente|   66677742|          500|     3|\n",
            "+---+-----------------+-----------+-------------+------+\n",
            "only showing top 20 rows\n",
            "\n",
            "+--------+---------+------+--------------------+----------+---------------------+--------+\n",
            "|  TMDTID|TaxiColor|TaxiID|       TaxiMakeModel|TaxiNumber|TaxiPassengerCapacity|TaxiType|\n",
            "+--------+---------+------+--------------------+----------+---------------------+--------+\n",
            "|TMB18597|    White|    59|       Mercedes Benz|   SHX0106|                    4|Limosine|\n",
            "|TMB76389|   Yellow|   464|Hyundai Ioniq Hybrid|   SHX0278|                    4|Standard|\n",
            "|TMA22172|   Yellow|   352|Hyundai Ioniq Hybrid|   SHX0354|                    4|Standard|\n",
            "|TMB30762|     Grey|   236| Toyota Camry Hybrid|   SHX0399|                    4| Premier|\n",
            "|TMA25750|     Grey|   188| Toyota Camry Hybrid|   SHX0541|                    4| Premier|\n",
            "|TMB51371|    White|    32|       Mercedes Benz|   SHX0588|                    4|Limosine|\n",
            "|TMC74051|    Black|   378|     Toyota Vellfire|   SHX0613|                    6|Maxi Cab|\n",
            "|TMA27837|     Blue|   460|         Hyundai i40|   SHX0694|                    4|Standard|\n",
            "|TMC96842|     Blue|   247|             Kia EV6|   SHX0732|                    5| Premier|\n",
            "|TMC20008|   Yellow|   260|        Toyota Prius|   SHX0791|                    4|Standard|\n",
            "|TMA66613|   Yellow|   132|             Kia EV6|   SHX0830|                    5| Premier|\n",
            "|TMB27976|    Brown|   104|           Honda Fit|   SHX0897|                    3|Mini Cab|\n",
            "|TMC78239|   Yellow|   239|         Hyundai i40|   SHX0907|                    4|Standard|\n",
            "|TMA72574|      Red|   507|           Honda Fit|   SHX0915|                    3|Mini Cab|\n",
            "|TMA63673|      Red|   512|           Honda Fit|   SHX0915|                    3|Mini Cab|\n",
            "|TMA38948|    White|   164|       Mercedes Benz|   SHX0941|                    4|Limosine|\n",
            "|TMB11317|   Yellow|    51|        Toyota Prius|   SHX1022|                    4|Standard|\n",
            "|TMC80644|    White|   272|       Mercedes Benz|   SHX1030|                    4|Limosine|\n",
            "|TMC80617|      Red|   115|           Honda Fit|   SHX1043|                    3|Mini Cab|\n",
            "|TMA49443|     Blue|   102|      Toyota Carolla|   SHX1081|                    4|Standard|\n",
            "+--------+---------+------+--------------------+----------+---------------------+--------+\n",
            "only showing top 20 rows\n",
            "\n",
            "+----------+--------+---------+\n",
            "|TaxiNumber|TaxiType|TaxiColor|\n",
            "+----------+--------+---------+\n",
            "|   SHX7048|Limosine|    White|\n",
            "|   SHY9725|Limosine|    White|\n",
            "|   SHY0981|Limosine|    White|\n",
            "|   SHX0588|Limosine|    White|\n",
            "|   SHZ7647|Limosine|    White|\n",
            "|   SHX0106|Limosine|    White|\n",
            "|   SHY1153|Limosine|    White|\n",
            "|   SHY0245|Limosine|    White|\n",
            "|   SHX5521|Limosine|    White|\n",
            "|   SHZ8902|Limosine|    White|\n",
            "|   SHZ4353|Limosine|    White|\n",
            "|   SHY4481|Limosine|    White|\n",
            "|   SHZ1333|Limosine|    White|\n",
            "|   SHX4161|Limosine|    White|\n",
            "|   SHY7440|Limosine|    White|\n",
            "|   SHY6224|Limosine|    White|\n",
            "|   SHZ2957|Limosine|    White|\n",
            "|   SHY5616|Limosine|    White|\n",
            "|   SHX0941|Limosine|    White|\n",
            "|   SHY9774|Limosine|    White|\n",
            "+----------+--------+---------+\n",
            "only showing top 20 rows\n",
            "\n",
            "+--------+---------+------+-------------------+----------+---------------------+--------+\n",
            "|  TMDTID|TaxiColor|TaxiID|      TaxiMakeModel|TaxiNumber|TaxiPassengerCapacity|TaxiType|\n",
            "+--------+---------+------+-------------------+----------+---------------------+--------+\n",
            "|TMB02825|   Silver|     4|Toyota Camry Hybrid|   SHX4872|                    4| Premier|\n",
            "|TMB67907|   Silver|    16|Toyota Camry Hybrid|   SHY9209|                    4| Premier|\n",
            "|TMC66738|     Grey|    18|Toyota Camry Hybrid|   SHY2915|                    4| Premier|\n",
            "|TMC10802|     Grey|    23|Toyota Camry Hybrid|   SHY9485|                    4| Premier|\n",
            "|TMA12261|     Grey|    37|Toyota Camry Hybrid|   SHY7838|                    4| Premier|\n",
            "|TMA41233|   Silver|    43|Toyota Camry Hybrid|   SHX5153|                    4| Premier|\n",
            "|TMA79747|     Grey|    57|Toyota Camry Hybrid|   SHY3876|                    4| Premier|\n",
            "|TMB16199|   Silver|    60|Toyota Camry Hybrid|   SHZ3746|                    4| Premier|\n",
            "|TMC67061|   Silver|    84|Toyota Camry Hybrid|   SHX4335|                    4| Premier|\n",
            "|TMA22969|     Grey|    98|Toyota Camry Hybrid|   SHY2548|                    4| Premier|\n",
            "|TMA98590|   Silver|   108|Toyota Camry Hybrid|   SHX7074|                    4| Premier|\n",
            "|TMB35280|     Grey|   149|Toyota Camry Hybrid|   SHZ7300|                    4| Premier|\n",
            "|TMB49478|   Silver|   152|Toyota Camry Hybrid|   SHY8172|                    4| Premier|\n",
            "|TMC46427|   Silver|   167|Toyota Camry Hybrid|   SHY4629|                    4| Premier|\n",
            "|TMC70256|   Silver|   174|Toyota Camry Hybrid|   SHY4078|                    4| Premier|\n",
            "|TMA25750|     Grey|   188|Toyota Camry Hybrid|   SHX0541|                    4| Premier|\n",
            "|TMA29795|   Silver|   199|Toyota Camry Hybrid|   SHX6044|                    4| Premier|\n",
            "|TMA38700|   Silver|   228|Toyota Camry Hybrid|   SHY2306|                    4| Premier|\n",
            "|TMB30762|     Grey|   236|Toyota Camry Hybrid|   SHX0399|                    4| Premier|\n",
            "|TMB53278|     Grey|   241|Toyota Camry Hybrid|   SHY6935|                    4| Premier|\n",
            "+--------+---------+------+-------------------+----------+---------------------+--------+\n",
            "only showing top 20 rows\n",
            "\n"
          ]
        }
      ]
    },
    {
      "cell_type": "code",
      "source": [
        "# B - Aggregation and Statistical Queries\n",
        "#========================================\n",
        "# 5. Determine the average distance per trip based on ALL trips in the month of January 2024\n",
        "average_distance_jan = jan_2024_trips.agg(avg(\"Distance Travelled\").alias(\"AverageDistance\"))\n",
        "average_distance_jan.show()\n",
        "\n",
        "# 6 Filter for Maxi Cab trips and calculate the total fares collected\n",
        "total_fares_maxi_cab = trip_data_df.filter(trip_data_df[\"Taxi Type\"] == 'Maxi Cab') \\\n",
        "                                   .groupBy(\"Taxi Type\") \\\n",
        "                                   .agg(sum(\"Trip Fare\").alias(\"TotalFare\"))\n",
        "total_fares_maxi_cab.show()"
      ],
      "metadata": {
        "colab": {
          "base_uri": "https://localhost:8080/"
        },
        "id": "qMTdviuZ3Ow0",
        "outputId": "99cb4b2d-e5d7-4ec9-89fc-bcc5438ffbb4"
      },
      "execution_count": 77,
      "outputs": [
        {
          "output_type": "stream",
          "name": "stdout",
          "text": [
            "+-----------------+\n",
            "|  AverageDistance|\n",
            "+-----------------+\n",
            "|11.90267497177833|\n",
            "+-----------------+\n",
            "\n",
            "+---------+-----------------+\n",
            "|Taxi Type|        TotalFare|\n",
            "+---------+-----------------+\n",
            "| Maxi Cab|124899.2199999994|\n",
            "+---------+-----------------+\n",
            "\n"
          ]
        }
      ]
    },
    {
      "cell_type": "code",
      "source": [
        "# C. Analytics\n",
        "#=============\n",
        "# 7 Filter for Standard Taxis and calculate the average occupancy\n",
        "average_occupancy = trip_data_df.filter(trip_data_df[\"Taxi Type\"] == 'Standard') \\\n",
        "                                .withColumn(\"Occupancy\", col(\"Number Of Passengers\") / col(\"Taxi Capacity\")) \\\n",
        "                                .agg(avg(\"Occupancy\").alias(\"AverageOccupancy\")).show()\n",
        "\n",
        "# 8. Filter for trips in January 2024 and calculate total fares collected by day of the week\n",
        "fares_by_day_of_week = jan_2024_trips.groupBy(\"Day\") \\\n",
        "                                   .agg(sum(\"Trip Fare\").alias(\"TotalFare\")).show()\n",
        "\n",
        "\n",
        "# 9 . Filter for trips in January 2024 and calculate total revenue by hour of the day and day of the week\n",
        "revenue_by_hour_day = jan_2024_trips.groupBy(\"Hour of Day\", \"Day\") \\\n",
        "                                  .agg(sum(\"Trip Fare\").alias(\"TotalRevenue\")) \\\n",
        "                                  .orderBy(\"Hour of Day\", \"Day\").show()\n",
        "\n",
        "# 10. Filter for trips in January 2024 and count trips per day, grouping by weekends and weekdays\n",
        "trips_weekends_vs_weekdays = trip_data_df.groupBy(\"IsWeekend\") \\\n",
        "                                         .agg((count(\"*\") / countDistinct(\"Date\")).alias(\"AverageTripsPerDay\")).show()"
      ],
      "metadata": {
        "id": "RRMcUjVe4JRb"
      },
      "execution_count": null,
      "outputs": []
    },
    {
      "cell_type": "code",
      "source": [
        "# D Multiple Entities Joining and multiple formats joined in a DataFrame\n",
        "#========================================================================\n",
        "\n",
        "# Assuming Customer data has columns: CustomerId, Fullname, Age, Gender, MemberCategory, etc.\n",
        "# Rename the CustomerId column to Passenger ID to match the trip data\n",
        "passenger_df = passenger_df.withColumnRenamed(\"PassengerID\", \"Passenger ID\")\n",
        "\n",
        "# joined_df = trip_data_df.join(customer_df, trip_data_df[\"Passenger ID\"] == customer_df[\"Passenger ID\"], \"inner\")\n",
        "\n",
        "# Join trip data with customer data\n",
        "joined_df = trip_data_df.join(passenger_df, \"Passenger ID\")\n",
        "joined_df.show()\n",
        "\n",
        "# Filter for Gold Status Passengers in January 2024 and calculate total fares\n",
        "total_fares_gold = joined_df.filter((col(\"MemSilvererStGoldtus\") == \"Gold\") &\n",
        "                                    (month(joined_df.TripDate) == 1) &\n",
        "                                    (year(joined_df.TripDate) == 2024)) \\\n",
        "                            .agg(sum(\"Trip Fare\").alias(\"TotalFaresGold\"))\n",
        "\n",
        "# # Calculate total fares for all passengers in January 2024\n",
        "total_fares_all = joined_df.filter((month(joined_df.TripDate) == 1) &\n",
        "                                   (year(joined_df.TripDate) == 2024)) \\\n",
        "                           .agg(sum(\"Trip Fare\").alias(\"TotalFaresAll\"))\n",
        "\n",
        "total_fares_gold_value = total_fares_gold.collect()[0][\"TotalFaresGold\"]\n",
        "total_fares_all_value = total_fares_all.collect()[0][\"TotalFaresAll\"]\n",
        "\n",
        "# Calculate the percentage\n",
        "percentage_gold = (total_fares_gold_value / total_fares_all_value) * 100\n",
        "\n",
        "print(f\"Total fares paid by Gold Status Passengers in January 2024: {total_fares_gold_value}\")\n",
        "print(f\"Percentage of total fares for all customers: {percentage_gold:.2f}%\")\n"
      ],
      "metadata": {
        "colab": {
          "base_uri": "https://localhost:8080/"
        },
        "id": "PrcLrTwN_iAr",
        "outputId": "39cb02b9-4bdd-4636-da11-6355d1cdcd41"
      },
      "execution_count": 105,
      "outputs": [
        {
          "output_type": "stream",
          "name": "stdout",
          "text": [
            "+------------+---+--------+---+-----------+--------------------+-----------------+-----------------+------------------+------------------------+-------------+-----------+---------+-------------+--------------------+---------+--------------+----------+---------+-------------+--------------------+----+------+-----------+--------------------+------------+--------+\n",
            "|Passenger ID|Sno|    Date|Day|Hour of Day|Trip Start Time HHMM|  Pickup District| DropOff District|Distance Travelled|Trip Duration in Seconds|Trip End Time|Taxi Number|Taxi Type|Taxi Capacity|Number Of Passengers|Trip Fare|Passenger Name|  TripDate|IsWeekend|PassengerName|MemSilvererStGoldtus| Age|Gender|AmountSpent|             Address|ContactTitle|   Phone|\n",
            "+------------+---+--------+---+-----------+--------------------+-----------------+-----------------+------------------+------------------------+-------------+-----------+---------+-------------+--------------------+---------+--------------+----------+---------+-------------+--------------------+----+------+-----------+--------------------+------------+--------+\n",
            "|       11841|  1|1-Jan-24|Mon|          0|               00:01|        Kew Drive|         Clementi|              25.1|                    3001|        01:50|    SHY6685| Standard|            4|                   2|    49.91|     Ellen Han|2024-01-01|    false|    Ellen Han|                Gold|NULL|     F|    1050.10|           Singapore|          Ms|92286872|\n",
            "|       10126|  2|1-Jan-24|Mon|          0|               00:01|           Marina|    Clementi Park|              12.8|                    1671|        00:29|    SHY1488| Mini Cab|            3|                   3|    28.17|  Matthew Feng|2024-01-01|    false| Matthew Feng|                Gold|NULL|     M|    1240.10|Blk 1002 Eunos Av...|          Mr|92850376|\n",
            "|       11259|  3|1-Jan-24|Mon|          0|               00:02|           Bishan|      Hume Avenue|              19.8|                    3332|        01:57|    SHX0354| Standard|            4|                   1|    44.67|      Agnes Bi|2024-01-01|    false|     Agnes Bi|                Gold|NULL|     F|    1189.50|  Boon Lay Singapore|          Ms|93966906|\n",
            "|       10710|  4|1-Jan-24|Mon|          0|               00:05|      Suntec City| Upper East Coast|              16.8|                    2904|        01:52|    SHZ0338| Mini Cab|            3|                   1|    37.54|   Harry Huang|2024-01-01|    false|  Harry Huang|                Gold|NULL|     M|     516.40|    Khatib Singapore|          Mr|89057456|\n",
            "|       11250|  5|1-Jan-24|Mon|          0|               00:06|        Chinatown|          Geylang|              17.6|                    2413|        01:45|    SHY5827| Mini Cab|            4|                   3|    34.62|  Frederick Ke|2024-01-01|    false| Frederick Ke|              Bronze|NULL|     M|     238.00| Admiralty Singapore|          Mr|86375734|\n",
            "|       12313|  6|1-Jan-24|Mon|          0|               00:08|   Admiralty Road|      High Street|              13.6|                    1812|        01:37|    SHX4463|  Premier|            4|                   4|    28.71|    George Guo|2024-01-01|    false|   George Guo|              Silver|NULL|     M|     275.70|           Singapore|          Mr|87467023|\n",
            "|       11347|  7|1-Jan-24|Mon|          0|               00:08|       Macpherson|   Admiralty Road|               2.3|                     507|        00:16|    SHX7806| Maxi Cab|            7|                   7|     8.11|     Ethel Man|2024-01-01|    false|    Ethel Man|              Silver|NULL|     F|     560.40|           Singapore|          Ms|89191452|\n",
            "|       11178|  8|1-Jan-24|Mon|          0|               00:09|      Middle Road|Orchard Boulevard|               4.9|                     845|        00:23|    SHY1409| Standard|            4|                   1|    12.43|   Judith Gong|2024-01-01|    false|  Judith Gong|              Bronze|NULL|     F|      20.70| Bendemeer Singapore|          Ms|92182951|\n",
            "|       11554|  9|1-Jan-24|Mon|          0|               00:09|       East Coast|         Hillview|              29.5|                    3740|        01:10|    SHX7554| Standard|            4|                   2|    55.69|     Ruby Ling|2024-01-01|    false|    Ruby Ling|              Bronze|NULL|     F|     138.70|Yishun East Singa...|          Ms|93190173|\n",
            "|       12225| 10|1-Jan-24|Mon|          0|               00:09|North Bridge Road|      Middle Road|               2.1|                     489|        00:17|    SHY6024| Standard|            4|                   1|     7.74|     Derek Cha|2024-01-01|    false|    Derek Cha|              Bronze|NULL|     M|      42.10|           Singapore|          Mr|86751351|\n",
            "|       10667| 11|1-Jan-24|Mon|          0|               00:09|        Pasir Ris|          Seletar|               9.9|                    1097|        00:28|    SHX2773| Standard|            4|                   1|    24.69|   Kelly Chang|2024-01-01|    false|  Kelly Chang|                Gold|NULL|     F|    1298.50| Adam Road Singapore|          Ms|92338971|\n",
            "|       10937| 12|1-Jan-24|Mon|          0|               00:10|            Bedok|           Marina|                18|                    2739|        01:55|    SHY0615| Standard|            4|                   3|    42.85|    Iris Zhang|2024-01-01|    false|   Iris Zhang|              Bronze|NULL|     F|      49.80|East Coast Singapore|          Ms|89792701|\n",
            "|       10578| 13|1-Jan-24|Mon|          0|               00:10|   Admiralty Road|       Queenstown|               8.7|                    1332|        01:32|    SHY7111| Standard|            4|                   1|    20.52|     Jane Heng|2024-01-01|    false|    Jane Heng|              Silver|NULL|     F|     443.90|56 New Upper Chan...|          Ms|90197755|\n",
            "|       10501| 14|1-Jan-24|Mon|          0|               00:11|      Paya Lebar |    Clementi Park|              22.3|                    3267|        01:05|    SHY9805| Mini Cab|            3|                   2|       43|     Alan Weng|2024-01-01|    false|    Alan Weng|                Gold|NULL|     M|     833.70|Blk 26a Chai Chee...|          Mr|91918630|\n",
            "|       10146| 15|1-Jan-24|Mon|          0|               00:12|     Harbourfront|    Sungei Gedong|              19.3|                    2668|        01:56|    SHX7757| Maxi Cab|            6|                   3|    38.23|  Sai Merchant|2024-01-01|    false| Sai Merchant|                Gold|NULL|     M|     611.20|111 North Bridge ...|          Mr|86954344|\n",
            "|       12074| 16|1-Jan-24|Mon|          0|               00:12|          Seletar|           Keppel|               5.2|                     957|        00:28|    SHY4520|  Premier|            4|                   2|    14.47|    Melissa Wu|2024-01-01|    false|   Melissa Wu|                Gold|NULL|     F|    1065.30|           Singapore|          Ms|89986347|\n",
            "|       11260| 17|1-Jan-24|Mon|          0|               00:14|      Shenton Way|      Bouna Vista|               5.9|                     942|        00:29|    SHY9111| Standard|            4|                   4|    14.53|     Louis Tai|2024-01-01|    false|    Louis Tai|              Bronze|NULL|     M|     296.70| Lake Side Singapore|          Mr|87199007|\n",
            "|       12139| 18|1-Jan-24|Mon|          0|               00:14|      Tanjong Rhu|           Jurong|              25.9|                    3261|        01:08|    SHZ9323| Maxi Cab|            7|                   6|    54.62|     Sydney Ke|2024-01-01|    false|    Sydney Ke|              Silver|NULL|     M|     221.10|           Singapore|          Mr|88577357|\n",
            "|       11583| 19|1-Jan-24|Mon|          0|               00:16|             Sims|           Katong|               3.4|                     583|        00:26|    SHZ6559| Mini Cab|            4|                   2|    10.04|   Parin Dubey|2024-01-01|    false|  Parin Dubey|              Silver|NULL|     M|     386.30|Bouna Vista Singa...|          Mr|87971605|\n",
            "|       10885| 20|1-Jan-24|Mon|          0|               00:22| Upper East Coast|           Yishun|               5.6|                     902|        01:36|    SHX9762| Standard|            4|                   4|    15.29|   Rosina Teng|2024-01-01|    false|  Rosina Teng|                Gold|NULL|     F|     937.50| Admiralty Singapore|          Ms|92922708|\n",
            "+------------+---+--------+---+-----------+--------------------+-----------------+-----------------+------------------+------------------------+-------------+-----------+---------+-------------+--------------------+---------+--------------+----------+---------+-------------+--------------------+----+------+-----------+--------------------+------------+--------+\n",
            "only showing top 20 rows\n",
            "\n",
            "Total fares paid by Gold Status Passengers in January 2024: 326794.39000000013\n",
            "Percentage of total fares for all customers: 27.74%\n"
          ]
        }
      ]
    }
  ]
}