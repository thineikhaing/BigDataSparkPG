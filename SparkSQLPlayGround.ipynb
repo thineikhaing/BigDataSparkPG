{
  "nbformat": 4,
  "nbformat_minor": 0,
  "metadata": {
    "colab": {
      "provenance": [],
      "mount_file_id": "1d0Uf-SLpEe9vf4M0mi21PSTtM3_UZAzt",
      "authorship_tag": "ABX9TyMjR5sHxGItsnoatYZLRFkW",
      "include_colab_link": true
    },
    "kernelspec": {
      "name": "python3",
      "display_name": "Python 3"
    },
    "language_info": {
      "name": "python"
    }
  },
  "cells": [
    {
      "cell_type": "markdown",
      "metadata": {
        "id": "view-in-github",
        "colab_type": "text"
      },
      "source": [
        "<a href=\"https://colab.research.google.com/github/thineikhaing/BigDataSparkPG/blob/main/SparkSQLPlayGround.ipynb\" target=\"_parent\"><img src=\"https://colab.research.google.com/assets/colab-badge.svg\" alt=\"Open In Colab\"/></a>"
      ]
    },
    {
      "cell_type": "markdown",
      "source": [
        "# **Installation**\n",
        "The first step involves installing pyspark. The next step is to install findspark library."
      ],
      "metadata": {
        "id": "WXBRhZ_X4Gaw"
      }
    },
    {
      "cell_type": "code",
      "execution_count": 5,
      "metadata": {
        "id": "VsDUMHwI3fgs"
      },
      "outputs": [],
      "source": [
        "# install pyspark using pip\n",
        "!pip install --ignore-install -q pyspark\n",
        "# install findspark using pip\n",
        "!pip install --ignore-install -q findspark"
      ]
    },
    {
      "cell_type": "markdown",
      "source": [
        "## Mounting Google Drive\n",
        "\n",
        "You can use the drive module from google.colab to mount your entire Google Drive to Colab by executing the below code. This will provide us with an authentication link to connect to Google Drive. Choose the Google account whose Drive you want to mount. Allow Google Drive Stream access to your Google Account."
      ],
      "metadata": {
        "id": "mTaWdLlw4hm4"
      }
    },
    {
      "cell_type": "code",
      "source": [
        "# to read in data from a text file, first upload the data file into your google drive and then mount your google drive onto colab\n",
        "from google.colab import drive\n",
        "# to attempt to forcibly remount, call drive.mount(\"/content/drive\", force_remount=True)\n",
        "drive.mount('/content/drive', force_remount=True)"
      ],
      "metadata": {
        "colab": {
          "base_uri": "https://localhost:8080/"
        },
        "id": "aD5sdtor4s1F",
        "outputId": "3fb1b94a-c722-4ef1-9141-0f00c9aed41e"
      },
      "execution_count": 14,
      "outputs": [
        {
          "output_type": "stream",
          "name": "stdout",
          "text": [
            "Mounted at /content/drive\n"
          ]
        }
      ]
    },
    {
      "cell_type": "markdown",
      "source": [
        "Run the sample spark df"
      ],
      "metadata": {
        "id": "gT-wsMIY6BrR"
      }
    },
    {
      "cell_type": "code",
      "source": [
        "from pyspark import SparkContext\n",
        "from pyspark import SparkConf\n",
        "from pyspark.sql import *\n",
        "from pyspark.sql.functions import *\n",
        "from pyspark.sql.types import *\n",
        "\n",
        "spark = SparkSession.builder.master(\"local\").appName(\"Customer\").getOrCreate()\n",
        "\n",
        "inputFilePath = \"/content/drive/My Drive/BEAD_DATA/customers.csv\"\n",
        "countryFilePath = \"/content/drive/My Drive/BEAD_DATA/Country.json\"\n",
        "\n",
        "df = ( spark.read\n",
        "      .option(\"header\", \"true\")\n",
        "      .option(\"inferSchema\", \"true\")\n",
        "      .csv(inputFilePath) )\n",
        "\n",
        "df1 = ( spark.read\n",
        "      .option(\"header\", \"true\")\n",
        "      .option(\"inferSchema\", \"true\")\n",
        "      .json(countryFilePath) )\n",
        "\n",
        "df.printSchema()\n",
        "df.count()\n",
        "df.show()\n",
        "df1.show()\n",
        "\n",
        "(df.select(\"CustomerId\", \"Fullname\")\n",
        "  .where(\"Age > 30 AND MemberCategory ='Gold' \")\n",
        "  .orderBy(\"Fullname\")\n",
        "  .show(10,False))\n",
        "\n"
      ],
      "metadata": {
        "colab": {
          "base_uri": "https://localhost:8080/"
        },
        "id": "1Ztuc_UN6Ehd",
        "outputId": "fd284049-73d0-460d-d660-0308faca0371"
      },
      "execution_count": 20,
      "outputs": [
        {
          "output_type": "stream",
          "name": "stdout",
          "text": [
            "root\n",
            " |-- CustomerId: integer (nullable = true)\n",
            " |-- Fullname: string (nullable = true)\n",
            " |-- Age: integer (nullable = true)\n",
            " |-- Gender: string (nullable = true)\n",
            " |-- MemberCategory: string (nullable = true)\n",
            " |-- AmountSpend: double (nullable = true)\n",
            " |-- Company: string (nullable = true)\n",
            " |-- Email: string (nullable = true)\n",
            " |-- City: string (nullable = true)\n",
            " |-- Country: string (nullable = true)\n",
            " |-- Phone Number: string (nullable = true)\n",
            "\n",
            "+----------+------------------+---+------+--------------+-----------+--------------------+--------------------+------------------+--------------------+--------------------+\n",
            "|CustomerId|          Fullname|Age|Gender|MemberCategory|AmountSpend|             Company|               Email|              City|             Country|        Phone Number|\n",
            "+----------+------------------+---+------+--------------+-----------+--------------------+--------------------+------------------+--------------------+--------------------+\n",
            "|     29961|      Erik Krueger| 63|  Male|        Silver|    4263.69|Paul, Grant and L...|     lisa36@king.com|       North David|               Chile|   715.161.5140x1893|\n",
            "|     98148|         John Lara| 59|Female|        Silver|     1783.9|Williams, Goodwin...|hoffmanjason@burn...|        Port Wanda|French Southern T...|        895.625.2182|\n",
            "|     74810|    Gabriela Mccoy| 43|Female|      Platinum|    2375.22|        Smith-Arnold|bpatterson@gmail.com|     Stephanieside|           Swaziland|+1-728-258-3754x9039|\n",
            "|     49346|   Christina Frost| 42|Female|        Silver|     323.59|Gray, Rios and Weeks|   jsteele@moore.com|     East Julieton|              Brazil|  625-277-7207x34730|\n",
            "|     95364|        Brian Hays| 19|Female|          Gold|     1868.0|Keith, Bailey and...|yhernandez@hotmai...|    North Calebton|               Korea|   (143)665-7279x851|\n",
            "|     67230|     April Terrell| 63|  Male|          Gold|    3229.97|           Day Group|jennifer58@howard...|         Jonesfort|            Zimbabwe|    402-272-4492x885|\n",
            "|     29272|  Katherine Stuart| 59|  Male|      Platinum|    4905.25|       Davis-Fleming|daniellewarren@fo...|    Alexandramouth|            Honduras|    565-392-7534x857|\n",
            "|     81306|       Tyler Bauer| 69|Female|          Gold|    3296.19|Ferrell, Kelley a...|martinmartha@hotm...|    Hernandezshire|French Southern T...|  (904)448-0766x5734|\n",
            "|     47825|   Corey Hernandez| 69|Female|        Silver|      220.3|    Adkins-Hernandez| richard65@gmail.com|   South Wendytown|             Albania|    156.335.1603x346|\n",
            "|     98571|     Mark Crawford| 63|  Male|          Gold|    4167.57|Silva, Robinson a...|jessicamartin@ewi...|       East Gerald|              Latvia|   413-139-5667x2919|\n",
            "|     36222|    Robert Bullock| 21|Female|      Platinum|    3158.18|    Collins-Alvarado|    rweber@yahoo.com|      Johnsonmouth|            Honduras|001-636-302-4492x031|\n",
            "|     21681|      Timothy Howe| 64|  Male|        Silver|    1532.44|  Phillips-Jefferson|lawsoncrystal@gon...|         Lisashire|       Guinea-Bissau|  (112)196-9981x3485|\n",
            "|     86092|    Sabrina Wagner| 40|Female|      Platinum|    4294.89|           Smith LLC|ryanstone@hotmail...|New Alejandroshire|Netherlands Antilles|   (073)084-9897x852|\n",
            "|     87843|Christina Williams| 41|Female|        Silver|    2674.66|          Montes LLC|     hho@hotmail.com|   Lake Davidshire|               Congo|+1-191-692-3073x4...|\n",
            "|     63072|    Ryan Valentine| 22|Female|      Platinum|    4083.71|         Bernard Inc|kevinduran@gmail.com|       West Nathan|          Bangladesh|    001-990-283-3444|\n",
            "|     34640|  Christopher Hill| 36|  Male|        Silver|    4905.09|Cruz, Mcbride and...|newtonjacqueline@...|     Brittanyhaven|            Portugal|    823.866.7958x377|\n",
            "|     12463|    Ryan Rodriguez| 43|  Male|      Platinum|    3476.16|           Allen PLC|    lori64@gmail.com|        East Scott|   Equatorial Guinea|        311.855.5412|\n",
            "|     25128|        Mark White| 65|  Male|        Silver|    1578.05|Nichols, Johnson ...|baileywilliam@jos...|         West Anna|             Lesotho|        470-008-7134|\n",
            "|     83730|  Tiffany Castillo| 31|  Male|          Gold|    3984.49|Morton, Nguyen an...|travis62@johnson....|        Reillyport|             Grenada|    629.671.6298x323|\n",
            "|     35865|       Brad Harper| 54|Female|      Platinum|    2869.98|Robles, Higgins a...|stacey68@hotmail.com|         Millstown|          Madagascar|     +1-955-555-7075|\n",
            "+----------+------------------+---+------+--------------+-----------+--------------------+--------------------+------------------+--------------------+--------------------+\n",
            "only showing top 20 rows\n",
            "\n",
            "+-----------+-----------+--------+--------+\n",
            "|CountryCode|CountryName|Currency|TimeZone|\n",
            "+-----------+-----------+--------+--------+\n",
            "|        ARG|  Argentina|     ARS|      -3|\n",
            "|        AUS|  Australia|     AUD|      10|\n",
            "|        BEL|    Belgium|     EUR|       1|\n",
            "|        BRA|     Brazil|     BRL|      -3|\n",
            "|        CAN|     Canada|     CND|      -6|\n",
            "|        DEN|    Denmark|     DKK|       1|\n",
            "|        FIN|    Finland|     EUR|       1|\n",
            "|        FRA|     France|     FFR|       1|\n",
            "|        GER|    Germany|     EUR|       2|\n",
            "|        IND|  Indonesia|     IDR|       7|\n",
            "|        IRE|    Ireland|     EUR|      -1|\n",
            "|        ITA|      Italy|     EUR|       3|\n",
            "|        JAP|      Japan|     JPY|       9|\n",
            "|        KOR|      Korea|     KRW|    NULL|\n",
            "|        MAL|   Malaysia|     MYR|       8|\n",
            "|        MEX|     Mexico|     MXV|    NULL|\n",
            "|        NOR|     Norway|    NULL|    NULL|\n",
            "|        POL|     Poland|    NULL|    NULL|\n",
            "|        POR|   Portugal|    NULL|    NULL|\n",
            "|        SIN|  Singapore|     SGD|       8|\n",
            "+-----------+-----------+--------+--------+\n",
            "only showing top 20 rows\n",
            "\n",
            "+----------+---------------+\n",
            "|CustomerId|Fullname       |\n",
            "+----------+---------------+\n",
            "|57062     |Amanda Barker  |\n",
            "|43508     |Anthony Johnson|\n",
            "|67230     |April Terrell  |\n",
            "|25216     |Brandon Howe   |\n",
            "|41351     |Jesse Wilson   |\n",
            "|82155     |Jessica Duncan |\n",
            "|84826     |Joseph Mack    |\n",
            "|18918     |Maria Rodriguez|\n",
            "|42696     |Marissa Bush   |\n",
            "|98571     |Mark Crawford  |\n",
            "+----------+---------------+\n",
            "only showing top 10 rows\n",
            "\n"
          ]
        }
      ]
    },
    {
      "cell_type": "code",
      "source": [],
      "metadata": {
        "id": "rC85m6PKLIMM"
      },
      "execution_count": null,
      "outputs": []
    }
  ]
}